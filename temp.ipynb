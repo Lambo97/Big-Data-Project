{
 "cells": [
  {
   "cell_type": "code",
   "execution_count": 43,
   "metadata": {
    "scrolled": false
   },
   "outputs": [],
   "source": [
    "import pandas as pd\n",
    "import numpy as np\n",
    "\n",
    "# Set tables reading options\n",
    "pd.set_option('display.max_columns', 50)\n",
    "pd.set_option('display.max_rows', 50)"
   ]
  },
  {
   "cell_type": "code",
   "execution_count": null,
   "metadata": {},
   "outputs": [],
   "source": []
  },
  {
   "cell_type": "code",
   "execution_count": null,
   "metadata": {},
   "outputs": [],
   "source": [
    "#-------------------------------------------------------------------------------------------\n",
    "# EXCLUDE PAST FRENCH OPEN FROM TRAING DATASET\n",
    "#-------------------------------------------------------------------------------------------\n",
    "\n",
    "# Read the csv file\n",
    "path = \"_Data/Training_dataset/training_data_weight06_+surface_weighting_min20matches.csv\"\n",
    "df = pd.read_csv(path, header=0, index_col=0)\n",
    "\n",
    "# Exclude the matches of Roland Garros 2016, 2017, 2018 (as we will test on that later)\n",
    "df_2018 = df[(df['Year'] == 2018) & (df['Day'] == 148)]\n",
    "df_2017 = df[(df['Year'] == 2017) & (df['Day'] == 149)]\n",
    "df_2016 = df[(df['Year'] == 2016) & (df['Day'] == 143)]\n",
    "bad_index = df_2018.index.values.tolist() + df_2017.index.values.tolist() + df_2016.index.values.tolist()\n",
    "df = df[~df.index.isin(bad_index)]\n",
    "df.reset_index(drop=True, inplace=True)"
   ]
  },
  {
   "cell_type": "code",
   "execution_count": null,
   "metadata": {},
   "outputs": [],
   "source": []
  },
  {
   "cell_type": "code",
   "execution_count": null,
   "metadata": {},
   "outputs": [],
   "source": []
  }
 ],
 "metadata": {
  "kernelspec": {
   "display_name": "Python 3",
   "language": "python",
   "name": "python3"
  },
  "language_info": {
   "codemirror_mode": {
    "name": "ipython",
    "version": 3
   },
   "file_extension": ".py",
   "mimetype": "text/x-python",
   "name": "python",
   "nbconvert_exporter": "python",
   "pygments_lexer": "ipython3",
   "version": "3.7.0"
  }
 },
 "nbformat": 4,
 "nbformat_minor": 2
}
